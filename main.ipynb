{
 "cells": [
  {
   "cell_type": "code",
   "execution_count": 50,
   "metadata": {},
   "outputs": [],
   "source": [
    "import pandas as pd\n",
    "import numpy as np\n",
    "import matplotlib.pyplot as plt\n",
    "import seaborn as sns\n",
    "import os"
   ]
  },
  {
   "cell_type": "code",
   "execution_count": 51,
   "metadata": {},
   "outputs": [],
   "source": [
    "df_first = pd.read_csv('train/00/2021-06-06_weather.csv')"
   ]
  },
  {
   "cell_type": "code",
   "execution_count": null,
   "metadata": {},
   "outputs": [],
   "source": [
    "# Создаем список директорий с данными\n",
    "train_dir_names = os.listdir('train')\n",
    "i = 0\n",
    "while i < len(train_dir_names):\n",
    "    if len(train_dir_names[i]) != 2:\n",
    "        train_dir_names.pop(i)\n",
    "    i += 1\n",
    "\n",
    "# Создаем большой датафрейм, объединяющий все имеющиеся таблицы\n",
    "ext = '.csv'\n",
    "df = pd.read_csv('train/00/2021-06-06_weather.csv')\n",
    "train_dir_names.remove('00') if '00' in train_dir_names else None\n",
    "for name in train_dir_names:\n",
    "    dir = os.listdir('train/' + name)\n",
    "    file_name = [i for i in dir if i.endswith(ext)][0]\n",
    "    df_partial = pd.read_csv(f'train/{name}/{file_name}')\n",
    "    df = pd.concat([df, df_partial])"
   ]
  },
  {
   "cell_type": "code",
   "execution_count": 57,
   "metadata": {},
   "outputs": [
    {
     "data": {
      "text/plain": [
       "Дата                        object\n",
       "Тсред                      float64\n",
       "Тмин                       float64\n",
       "Тмакс                      float64\n",
       "Осадки всего               float64\n",
       "Направление ветра          float64\n",
       "Скорость ветра             float64\n",
       "Порывы ветра               float64\n",
       "Атмосферное Давление       float64\n",
       "time                        object\n",
       "Давление на уровне моря    float64\n",
       "station                     object\n",
       "dtype: object"
      ]
     },
     "execution_count": 57,
     "metadata": {},
     "output_type": "execute_result"
    }
   ],
   "source": [
    "df.columns\n",
    "df.dtypes"
   ]
  },
  {
   "cell_type": "code",
   "execution_count": 59,
   "metadata": {},
   "outputs": [
    {
     "data": {
      "text/plain": [
       "(array([ 3.,  2.,  9., 11.,  7., 16.,  4.,  4.,  3.,  3.]),\n",
       " array([ 999.7 , 1003.93, 1008.16, 1012.39, 1016.62, 1020.85, 1025.08,\n",
       "        1029.31, 1033.54, 1037.77, 1042.  ]),\n",
       " <BarContainer object of 10 artists>)"
      ]
     },
     "execution_count": 59,
     "metadata": {},
     "output_type": "execute_result"
    },
    {
     "data": {
      "image/png": "[encoded data removed]",
      "text/plain": [
       "<Figure size 640x480 with 1 Axes>"
      ]
     },
     "metadata": {},
     "output_type": "display_data"
    }
   ],
   "source": [
    "plt.hist(df['Атмосферное Давление'])"
   ]
  }
 ],
 "metadata": {
  "kernelspec": {
   "display_name": "base",
   "language": "python",
   "name": "python3"
  },
  "language_info": {
   "codemirror_mode": {
    "name": "ipython",
    "version": 3
   },
   "file_extension": ".py",
   "mimetype": "text/x-python",
   "name": "python",
   "nbconvert_exporter": "python",
   "pygments_lexer": "ipython3",
   "version": "3.11.7"
  }
 },
 "nbformat": 4,
 "nbformat_minor": 2
}
