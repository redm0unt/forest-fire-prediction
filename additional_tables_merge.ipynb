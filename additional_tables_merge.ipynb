{
 "cells": [
  {
   "cell_type": "code",
   "execution_count": 112,
   "metadata": {},
   "outputs": [],
   "source": [
    "import pandas as pd\n",
    "import numpy as np\n",
    "import matplotlib.pyplot as plt\n",
    "import seaborn as sns\n",
    "import os"
   ]
  },
  {
   "cell_type": "code",
   "execution_count": 113,
   "metadata": {},
   "outputs": [],
   "source": [
    "df_first = pd.read_csv('train/00/2021-06-06_weather.csv')"
   ]
  },
  {
   "cell_type": "code",
   "execution_count": null,
   "metadata": {},
   "outputs": [],
   "source": [
    "# Создаем список директорий с данными\n",
    "train_dir_names = os.listdir('train')\n",
    "i = 0\n",
    "while i < len(train_dir_names):\n",
    "    if len(train_dir_names[i]) != 2:\n",
    "        train_dir_names.pop(i)\n",
    "    i += 1\n",
    "\n",
    "# Создаем большой датафрейм, объединяющий все имеющиеся таблицы\n",
    "ext = '.csv'\n",
    "df = pd.read_csv('train/00/2021-06-06_weather.csv')\n",
    "train_dir_names.remove('00') if '00' in train_dir_names else None\n",
    "for name in train_dir_names:\n",
    "    dir = os.listdir('train/' + name)\n",
    "    file_name = [i for i in dir if i.endswith(ext)][0]\n",
    "    df_partial = pd.read_csv(f'train/{name}/{file_name}')\n",
    "    df = pd.concat([df, df_partial])\n",
    "\n",
    "# Делаем индекс по порядку с 0\n",
    "df.reset_index(drop=True, inplace=True)\n",
    "\n",
    "# Дропаем столбец Порывы ветра и station, они везде пустой\n",
    "df.drop(columns=['Порывы ветра', 'station'], inplace=True)"
   ]
  },
  {
   "cell_type": "code",
   "execution_count": 97,
   "metadata": {},
   "outputs": [
    {
     "data": {
      "text/plain": [
       "Index(['Дата', 'Тсред', 'Тмин', 'Тмакс', 'Осадки всего', 'Направление ветра',\n",
       "       'Скорость ветра', 'Атмосферное Давление', 'time',\n",
       "       'Давление на уровне моря'],\n",
       "      dtype='object')"
      ]
     },
     "execution_count": 97,
     "metadata": {},
     "output_type": "execute_result"
    }
   ],
   "source": [
    "df.columns"
   ]
  },
  {
   "cell_type": "code",
   "execution_count": 98,
   "metadata": {},
   "outputs": [],
   "source": [
    "slice_df = df[['Дата', 'time']]"
   ]
  },
  {
   "cell_type": "code",
   "execution_count": 111,
   "metadata": {},
   "outputs": [
    {
     "data": {
      "text/plain": [
       "1172"
      ]
     },
     "execution_count": 111,
     "metadata": {},
     "output_type": "execute_result"
    }
   ],
   "source": [
    "len(slice_df['Дата'].to_numpy())"
   ]
  }
 ],
 "metadata": {
  "kernelspec": {
   "display_name": "base",
   "language": "python",
   "name": "python3"
  },
  "language_info": {
   "codemirror_mode": {
    "name": "ipython",
    "version": 3
   },
   "file_extension": ".py",
   "mimetype": "text/x-python",
   "name": "python",
   "nbconvert_exporter": "python",
   "pygments_lexer": "ipython3",
   "version": "3.11.5"
  }
 },
 "nbformat": 4,
 "nbformat_minor": 2
}
